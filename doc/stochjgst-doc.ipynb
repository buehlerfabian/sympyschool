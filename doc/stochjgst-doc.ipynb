{
 "cells": [
  {
   "cell_type": "markdown",
   "metadata": {},
   "source": [
    "# Stochastik in der Jahrgangsstufe"
   ]
  },
  {
   "cell_type": "markdown",
   "metadata": {},
   "source": [
    "## elementare Kombinatorik"
   ]
  },
  {
   "cell_type": "code",
   "execution_count": 1,
   "metadata": {},
   "outputs": [],
   "source": [
    "from sympy import *"
   ]
  },
  {
   "cell_type": "markdown",
   "metadata": {},
   "source": [
    "Ziehen mit Zurücklegen unter Berücksichtigung der Reihenfolge:\n",
    "$$ n^k $$"
   ]
  },
  {
   "cell_type": "code",
   "execution_count": 2,
   "metadata": {},
   "outputs": [
    {
     "data": {
      "text/plain": [
       "100000"
      ]
     },
     "execution_count": 2,
     "metadata": {},
     "output_type": "execute_result"
    }
   ],
   "source": [
    "n = 10\n",
    "k = 5\n",
    "n**k"
   ]
  },
  {
   "cell_type": "markdown",
   "metadata": {},
   "source": [
    "Ziehen ohne Zurücklegen unter Berücksichtigung der Reihenfolge:\n",
    "$$ \\frac{n!}{(n-k)!} $$"
   ]
  },
  {
   "cell_type": "code",
   "execution_count": 3,
   "metadata": {},
   "outputs": [
    {
     "data": {
      "text/latex": [
       "$\\displaystyle 30240$"
      ],
      "text/plain": [
       "30240"
      ]
     },
     "execution_count": 3,
     "metadata": {},
     "output_type": "execute_result"
    }
   ],
   "source": [
    "n = 10\n",
    "k = 5\n",
    "factorial(n) / factorial(n-k)"
   ]
  },
  {
   "cell_type": "markdown",
   "metadata": {},
   "source": [
    "Ziehen ohne Zurücklegen ohne Berücksichtigung der Reihenfolge:\n",
    "$$ \\binom{n}{k} $$"
   ]
  },
  {
   "cell_type": "code",
   "execution_count": 4,
   "metadata": {},
   "outputs": [
    {
     "data": {
      "text/latex": [
       "$\\displaystyle 252$"
      ],
      "text/plain": [
       "252"
      ]
     },
     "execution_count": 4,
     "metadata": {},
     "output_type": "execute_result"
    }
   ],
   "source": [
    "n = 10\n",
    "k = 5\n",
    "binomial(n, k)"
   ]
  },
  {
   "cell_type": "markdown",
   "metadata": {},
   "source": [
    "## Pfadregel und Erwartungswert"
   ]
  },
  {
   "cell_type": "markdown",
   "metadata": {},
   "source": [
    "normaler Würfel wird 3 mal geworfen"
   ]
  },
  {
   "cell_type": "code",
   "execution_count": 5,
   "metadata": {},
   "outputs": [
    {
     "data": {
      "text/plain": [
       "(3, 2, 2)"
      ]
     },
     "execution_count": 5,
     "metadata": {},
     "output_type": "execute_result"
    }
   ],
   "source": [
    "from sympy.stats import Die, sample\n",
    "\n",
    "D1 = Die('D1', 6) \n",
    "D2 = Die('D2', 6)\n",
    "D3 = Die('D3', 6)\n",
    "dice_throws = [D1, D2, D3]\n",
    "samples = sample(D1), sample(D2), sample(D3)\n",
    "samples\n"
   ]
  },
  {
   "cell_type": "markdown",
   "metadata": {},
   "source": [
    "für 50 Würfe:"
   ]
  },
  {
   "cell_type": "code",
   "execution_count": 6,
   "metadata": {},
   "outputs": [],
   "source": [
    "dice_throws = [Die(f'D{i}', 6) for i in range(1, 51)]"
   ]
  },
  {
   "cell_type": "markdown",
   "metadata": {},
   "source": [
    "Glücksrad mit Wahrscheinlichkeit $\\frac 34$ für \"Rot\" und $\\frac 14$ für \"Blau\". Wahrscheinlichkeit für \"Blau\" bei erster Drehung und \"Rot\" bei zweiter Drehung:"
   ]
  },
  {
   "cell_type": "code",
   "execution_count": 7,
   "metadata": {},
   "outputs": [
    {
     "data": {
      "text/latex": [
       "$\\displaystyle \\frac{3}{16}$"
      ],
      "text/plain": [
       "3/16"
      ]
     },
     "execution_count": 7,
     "metadata": {},
     "output_type": "execute_result"
    }
   ],
   "source": [
    "from sympy.stats import FiniteRV, P\n",
    "rot = 0\n",
    "blau = 1\n",
    "rad1 = FiniteRV(\"rad1\", {rot:S(3)/4, blau:S(1)/4})\n",
    "rad2 = FiniteRV(\"rad2\", {rot:S(3)/4, blau:S(1)/4})\n",
    "P(And(Eq(rad1, blau), Eq(rad2, rot)))"
   ]
  },
  {
   "cell_type": "markdown",
   "metadata": {},
   "source": [
    "Eine Urne enthält 4 rote und 2 blaue Kugeln, es wird zwei Mal gezogen. Wahrscheinlichkeit für \"genau eine blaue Kugel\"?"
   ]
  },
  {
   "cell_type": "code",
   "execution_count": 8,
   "metadata": {},
   "outputs": [
    {
     "data": {
      "text/plain": [
       "[('r', 'r'), ('r', 'b'), ('b', 'r'), ('b', 'b')]"
      ]
     },
     "execution_count": 8,
     "metadata": {},
     "output_type": "execute_result"
    }
   ],
   "source": [
    "from itertools import product\n",
    "elements = ['r', 'b']\n",
    "combinations = list(product(elements, repeat=2))\n",
    "combinations"
   ]
  },
  {
   "cell_type": "code",
   "execution_count": 9,
   "metadata": {},
   "outputs": [
    {
     "data": {
      "text/plain": [
       "[('r', 'b'), ('b', 'r')]"
      ]
     },
     "execution_count": 9,
     "metadata": {},
     "output_type": "execute_result"
    }
   ],
   "source": [
    "one_b = [c for c in combinations if c.count('b') == 1]\n",
    "one_b"
   ]
  },
  {
   "cell_type": "code",
   "execution_count": 10,
   "metadata": {},
   "outputs": [
    {
     "data": {
      "text/plain": [
       "[[2/3, 1/3], [1/3, 2/3]]"
      ]
     },
     "execution_count": 10,
     "metadata": {},
     "output_type": "execute_result"
    }
   ],
   "source": [
    "wverteilung = {'r': S(4)/6, 'b': S(2)/6}\n",
    "one_b_wkeit = [[wverteilung[c] for c in pfad] for pfad in one_b]\n",
    "one_b_wkeit"
   ]
  },
  {
   "cell_type": "code",
   "execution_count": 11,
   "metadata": {},
   "outputs": [
    {
     "data": {
      "text/plain": [
       "[2/9, 2/9]"
      ]
     },
     "execution_count": 11,
     "metadata": {},
     "output_type": "execute_result"
    }
   ],
   "source": [
    "wkeit_pfade = [prod(pfad) for pfad in one_b_wkeit]\n",
    "wkeit_pfade"
   ]
  },
  {
   "cell_type": "code",
   "execution_count": 12,
   "metadata": {},
   "outputs": [
    {
     "data": {
      "text/latex": [
       "$\\displaystyle \\frac{4}{9}$"
      ],
      "text/plain": [
       "4/9"
      ]
     },
     "execution_count": 12,
     "metadata": {},
     "output_type": "execute_result"
    }
   ],
   "source": [
    "sum(wkeit_pfade)"
   ]
  },
  {
   "cell_type": "markdown",
   "metadata": {},
   "source": [
    "## Vierfeldertafel"
   ]
  },
  {
   "cell_type": "markdown",
   "metadata": {},
   "source": [
    "Bezeichnung der Parameter für die einzelnen Felder:\n",
    "$$\n",
    "\\begin{array}{|c|c|c|}\n",
    "\\hline\n",
    "ab & abq & a \\\\\n",
    "\\hline\n",
    "aqb & aqbq & aq \\\\\n",
    "\\hline\n",
    "b & bq & \\\\\n",
    "\\hline\n",
    "\\end{array}\n",
    "$$"
   ]
  },
  {
   "cell_type": "code",
   "execution_count": 13,
   "metadata": {},
   "outputs": [
    {
     "data": {
      "text/latex": [
       "$\\displaystyle \\begin{array}{|c|c|c|}\\hline2/25 & 7/50 & 11/50 \\\\\\\\ \\hline14/25 & 11/50 & 39/50 \\\\\\\\ \\hline16/25 & 9/25 & 1 \\\\\\\\ \\hline\\end{array}$"
      ],
      "text/plain": [
       "<IPython.core.display.Math object>"
      ]
     },
     "metadata": {},
     "output_type": "display_data"
    }
   ],
   "source": [
    "from sympyschool.stochjgst import vierfeldertafel\n",
    "vierfeldertafel(abq=S(14)/100, aqb=S(56)/100, bq=S(36)/100)"
   ]
  },
  {
   "cell_type": "code",
   "execution_count": 14,
   "metadata": {},
   "outputs": [
    {
     "data": {
      "text/latex": [
       "$\\displaystyle \\begin{array}{|c|c|c|}\\hline504 & 126 & 630 \\\\\\\\ \\hline168 & 42 & 210 \\\\\\\\ \\hline672 & 168 & 840 \\\\\\\\ \\hline\\end{array}$"
      ],
      "text/plain": [
       "<IPython.core.display.Math object>"
      ]
     },
     "metadata": {},
     "output_type": "display_data"
    }
   ],
   "source": [
    "from sympyschool.stochjgst import vierfeldertafel\n",
    "vierfeldertafel(normalized=False, ab=504, aqbq=42, a=630, b=672)"
   ]
  },
  {
   "cell_type": "markdown",
   "metadata": {},
   "source": [
    "## Binomialverteilung"
   ]
  },
  {
   "cell_type": "code",
   "execution_count": 15,
   "metadata": {},
   "outputs": [],
   "source": [
    "from sympy.stats import Binomial, P\n",
    "from sympy import Eq, S"
   ]
  },
  {
   "cell_type": "markdown",
   "metadata": {},
   "source": [
    "Standard-Methoden aus Sympy:"
   ]
  },
  {
   "cell_type": "code",
   "execution_count": 16,
   "metadata": {},
   "outputs": [],
   "source": [
    "X = Binomial('X', n=30, p=S(3)/10)"
   ]
  },
  {
   "cell_type": "code",
   "execution_count": 17,
   "metadata": {},
   "outputs": [
    {
     "data": {
      "text/latex": [
       "$\\displaystyle 0.269629613697277$"
      ],
      "text/plain": [
       "0.269629613697277"
      ]
     },
     "execution_count": 17,
     "metadata": {},
     "output_type": "execute_result"
    }
   ],
   "source": [
    "P(X > 10).evalf()"
   ]
  },
  {
   "cell_type": "code",
   "execution_count": 18,
   "metadata": {},
   "outputs": [
    {
     "data": {
      "text/latex": [
       "$\\displaystyle 0.730370386302723$"
      ],
      "text/plain": [
       "0.730370386302723"
      ]
     },
     "execution_count": 18,
     "metadata": {},
     "output_type": "execute_result"
    }
   ],
   "source": [
    "P(X<=10).evalf()"
   ]
  },
  {
   "cell_type": "code",
   "execution_count": 19,
   "metadata": {},
   "outputs": [
    {
     "data": {
      "text/latex": [
       "$\\displaystyle 0.141561701062001$"
      ],
      "text/plain": [
       "0.141561701062001"
      ]
     },
     "execution_count": 19,
     "metadata": {},
     "output_type": "execute_result"
    }
   ],
   "source": [
    "P(Eq(X,10)).evalf()"
   ]
  },
  {
   "cell_type": "code",
   "execution_count": 20,
   "metadata": {},
   "outputs": [
    {
     "data": {
      "text/latex": [
       "$\\displaystyle 0.512213933233171$"
      ],
      "text/plain": [
       "0.512213933233171"
      ]
     },
     "execution_count": 20,
     "metadata": {},
     "output_type": "execute_result"
    }
   ],
   "source": [
    "P(And(X>5, X<10)).evalf()"
   ]
  },
  {
   "cell_type": "markdown",
   "metadata": {},
   "source": [
    "zusätzl. taschenrechnerähnliche Funktionen:"
   ]
  },
  {
   "cell_type": "code",
   "execution_count": 21,
   "metadata": {},
   "outputs": [],
   "source": [
    "from sympyschool.stochjgst import binompdf, binomcdf"
   ]
  },
  {
   "cell_type": "code",
   "execution_count": 22,
   "metadata": {},
   "outputs": [
    {
     "data": {
      "text/latex": [
       "$\\displaystyle 0.141561701062001$"
      ],
      "text/plain": [
       "0.141561701062001"
      ]
     },
     "execution_count": 22,
     "metadata": {},
     "output_type": "execute_result"
    }
   ],
   "source": [
    "binompdf(30, S(3)/10, 10).evalf()"
   ]
  },
  {
   "cell_type": "code",
   "execution_count": 23,
   "metadata": {},
   "outputs": [
    {
     "data": {
      "text/latex": [
       "$\\displaystyle 0.730370386302723$"
      ],
      "text/plain": [
       "0.730370386302723"
      ]
     },
     "execution_count": 23,
     "metadata": {},
     "output_type": "execute_result"
    }
   ],
   "source": [
    "binomcdf(30, S(3)/10, 10).evalf()"
   ]
  },
  {
   "cell_type": "markdown",
   "metadata": {},
   "source": [
    "### Bestimmung von $n$"
   ]
  },
  {
   "cell_type": "markdown",
   "metadata": {},
   "source": [
    "Etwa 9% der männl. Bevölkerung haben eine Rotgrünschwäche. Wie groß muss eine Gruppe zufällig ausgewählter Männer mindestens sein, damit mit einer Wahrscheinlichkeit von mindestens 85% mindestens 5 eine Rotgrünschwäche haben."
   ]
  },
  {
   "cell_type": "code",
   "execution_count": 24,
   "metadata": {},
   "outputs": [],
   "source": [
    "from sympy.stats import Binomial, P"
   ]
  },
  {
   "cell_type": "code",
   "execution_count": 25,
   "metadata": {
    "vscode": {
     "languageId": "ruby"
    }
   },
   "outputs": [
    {
     "name": "stdout",
     "output_type": "stream",
     "text": [
      "n=80: 0.856888389852671\n",
      "n=79: 0.849369880557182\n"
     ]
    }
   ],
   "source": [
    "n = 1\n",
    "while True:\n",
    "    X = Binomial('X', n, .09)\n",
    "    if P(X >=5) >= 0.85:\n",
    "        print(f\"n={n}: {P(X >=5)}\")\n",
    "        X = Binomial('X', n-1, .09)\n",
    "        print(f\"n={n-1}: {P(X >=5)}\")\n",
    "        break\n",
    "    n += 1"
   ]
  },
  {
   "cell_type": "markdown",
   "metadata": {},
   "source": [
    "### Bestimmung von k"
   ]
  },
  {
   "cell_type": "markdown",
   "metadata": {},
   "source": [
    "Ein Multiple-Choice-Test besteht aus 20 Fragen. Zu jeder Frage gibt es 3 Antwortmöglichkeiten, von denen genau eine richtig ist. Die Wahrscheinlichkeit, dass jemand nur durch Raten den Test besteht, soll höchstens 5% betragen. Mindestanzahl an richtigen Antworten, die für das Bestehen verlangt werden muss."
   ]
  },
  {
   "cell_type": "code",
   "execution_count": 26,
   "metadata": {
    "vscode": {
     "languageId": "ruby"
    }
   },
   "outputs": [],
   "source": [
    "from sympy.stats import Binomial, P\n",
    "from sympy import S"
   ]
  },
  {
   "cell_type": "code",
   "execution_count": 27,
   "metadata": {
    "vscode": {
     "languageId": "ruby"
    }
   },
   "outputs": [
    {
     "name": "stdout",
     "output_type": "stream",
     "text": [
      "k=10: 0.0918957744872623\n",
      "k=11: 0.0376365710946634\n"
     ]
    }
   ],
   "source": [
    "k = 1\n",
    "while True:\n",
    "    X = Binomial('X', 20, S(1)/3)\n",
    "    if P(X>=k) <= 0.05:\n",
    "        print(f\"k={k-1}: {P(X>=k-1).evalf()}\")\n",
    "        print(f\"k={k}: {P(X>=k).evalf()}\")\n",
    "        break\n",
    "    k += 1"
   ]
  },
  {
   "cell_type": "markdown",
   "metadata": {},
   "source": [
    "Ein Multiple-Choice-Test besteht aus 20 Fragen. Zu jeder Frage gibt es gleich viele Antwortmöglichkeiten, von denen genau eine richtig ist. Die Wahrscheinlichkeit, dass jemand nur durch Raten den Test besteht, soll höchstens 5% betragen. Für das Bestehen sind mindestens 8 richtige Antworten notwendig. Mindestanzahl an Antwortmöglickeiten pro Frage?"
   ]
  },
  {
   "cell_type": "code",
   "execution_count": 28,
   "metadata": {
    "vscode": {
     "languageId": "ruby"
    }
   },
   "outputs": [],
   "source": [
    "from sympy.stats import Binomial, P\n",
    "from sympy import S"
   ]
  },
  {
   "cell_type": "code",
   "execution_count": 29,
   "metadata": {
    "vscode": {
     "languageId": "ruby"
    }
   },
   "outputs": [
    {
     "name": "stdout",
     "output_type": "stream",
     "text": [
      "m=5: 0.0321426630808751\n",
      "m=4: 0.101811856922723\n"
     ]
    }
   ],
   "source": [
    "m = 1\n",
    "while True:\n",
    "    X = Binomial('X', 20, S(1)/m)\n",
    "    if P(X>=8) <= 0.05:\n",
    "        print(f\"m={m}: {P(X>=8).evalf()}\")\n",
    "        X = Binomial('X', 20, S(1)/(m-1))\n",
    "        print(f\"m={m-1}: {P(X>=8).evalf()}\")\n",
    "        break\n",
    "    m += 1"
   ]
  },
  {
   "cell_type": "markdown",
   "metadata": {},
   "source": [
    "### Erwartungswert, Varianz, Standardabweichung"
   ]
  },
  {
   "cell_type": "code",
   "execution_count": 30,
   "metadata": {},
   "outputs": [],
   "source": [
    "from sympy.stats import Binomial, E, variance, std\n",
    "from sympy import S\n",
    "X = Binomial('X', n=30, p=S(3)/10)"
   ]
  },
  {
   "cell_type": "code",
   "execution_count": 31,
   "metadata": {},
   "outputs": [
    {
     "data": {
      "text/latex": [
       "$\\displaystyle 9.0$"
      ],
      "text/plain": [
       "9.00000000000000"
      ]
     },
     "execution_count": 31,
     "metadata": {},
     "output_type": "execute_result"
    }
   ],
   "source": [
    "E(X).evalf()"
   ]
  },
  {
   "cell_type": "code",
   "execution_count": 32,
   "metadata": {},
   "outputs": [
    {
     "data": {
      "text/latex": [
       "$\\displaystyle 6.3$"
      ],
      "text/plain": [
       "6.30000000000000"
      ]
     },
     "execution_count": 32,
     "metadata": {},
     "output_type": "execute_result"
    }
   ],
   "source": [
    "variance(X).evalf()"
   ]
  },
  {
   "cell_type": "code",
   "execution_count": 33,
   "metadata": {},
   "outputs": [
    {
     "data": {
      "text/latex": [
       "$\\displaystyle 2.50998007960223$"
      ],
      "text/plain": [
       "2.50998007960223"
      ]
     },
     "execution_count": 33,
     "metadata": {},
     "output_type": "execute_result"
    }
   ],
   "source": [
    "std(X).evalf()"
   ]
  },
  {
   "cell_type": "markdown",
   "metadata": {},
   "source": [
    "### Histogramme"
   ]
  },
  {
   "cell_type": "code",
   "execution_count": 34,
   "metadata": {},
   "outputs": [],
   "source": [
    "from sympy.stats import Binomial, P\n",
    "from sympy import S, Eq\n",
    "import matplotlib.pyplot as plt\n",
    "\n",
    "X = Binomial('X', n=30, p=S(3)/10)"
   ]
  },
  {
   "cell_type": "code",
   "execution_count": 35,
   "metadata": {},
   "outputs": [
    {
     "data": {
      "image/png": "[encoded data removed]",
      "text/plain": [
       "<Figure size 640x480 with 1 Axes>"
      ]
     },
     "metadata": {},
     "output_type": "display_data"
    }
   ],
   "source": [
    "data = [P(Eq(X,k)) for k in range(31)]\n",
    "\n",
    "# Plot the histogram\n",
    "plt.bar(range(31), data, align='center', alpha=0.7)\n",
    "plt.xlabel(r'$k$')\n",
    "plt.ylabel('Wahrscheinlichkeit')\n",
    "plt.title(r'Binomialverteilung $n=30$, $p=0.3$')\n",
    "plt.show()"
   ]
  },
  {
   "cell_type": "markdown",
   "metadata": {},
   "source": [
    "## einseitiger Hypothesentest"
   ]
  },
  {
   "cell_type": "markdown",
   "metadata": {},
   "source": [
    "Nullhypothese: \"Es keimen höchstens 85% der Samen.\" Test auf höhere Keimungsrate. Stichprobenumfang 500 Samen, Signifikanzniveau 5%. Ablehnungsbereich und Irrtumswahrscheinlichkeit?"
   ]
  },
  {
   "cell_type": "code",
   "execution_count": 36,
   "metadata": {},
   "outputs": [],
   "source": [
    "from sympyschool.stochjgst import Hypothesentest_rechts"
   ]
  },
  {
   "cell_type": "code",
   "execution_count": 37,
   "metadata": {},
   "outputs": [],
   "source": [
    "h = Hypothesentest_rechts(n=500, p0=.85, alpha=0.05)"
   ]
  },
  {
   "cell_type": "code",
   "execution_count": 38,
   "metadata": {},
   "outputs": [
    {
     "data": {
      "text/plain": [
       "439"
      ]
     },
     "execution_count": 38,
     "metadata": {},
     "output_type": "execute_result"
    }
   ],
   "source": [
    "h.get_ablehnungsbereich()"
   ]
  },
  {
   "cell_type": "code",
   "execution_count": 39,
   "metadata": {},
   "outputs": [
    {
     "data": {
      "text/latex": [
       "$\\displaystyle 0.0426251508811221$"
      ],
      "text/plain": [
       "0.0426251508811221"
      ]
     },
     "execution_count": 39,
     "metadata": {},
     "output_type": "execute_result"
    }
   ],
   "source": [
    "h.get_irrtumswahrscheinlichkeit()"
   ]
  },
  {
   "cell_type": "code",
   "execution_count": 40,
   "metadata": {},
   "outputs": [
    {
     "data": {
      "text/latex": [
       "$\\displaystyle 0.864157809720006$"
      ],
      "text/plain": [
       "0.864157809720006"
      ]
     },
     "execution_count": 40,
     "metadata": {},
     "output_type": "execute_result"
    }
   ],
   "source": [
    "h.get_fehler2(.86)"
   ]
  },
  {
   "cell_type": "markdown",
   "metadata": {},
   "source": [
    "Nulhypothese: \"Anteil defekter Teile mindestens 8%.\" Test auf geringere Defektrate. Stichprobenumfang 200, Signifikanzniveau 5%. Ablehnungsbereich und Irrtumswahrscheinlichkeit?"
   ]
  },
  {
   "cell_type": "code",
   "execution_count": 41,
   "metadata": {},
   "outputs": [],
   "source": [
    "from sympyschool.stochjgst import Hypothesentest_links"
   ]
  },
  {
   "cell_type": "code",
   "execution_count": 42,
   "metadata": {},
   "outputs": [],
   "source": [
    "h = Hypothesentest_links(n=200, p0=.08, alpha=0.05)"
   ]
  },
  {
   "cell_type": "code",
   "execution_count": 43,
   "metadata": {},
   "outputs": [
    {
     "data": {
      "text/plain": [
       "9"
      ]
     },
     "execution_count": 43,
     "metadata": {},
     "output_type": "execute_result"
    }
   ],
   "source": [
    "h.get_ablehnungsbereich()"
   ]
  },
  {
   "cell_type": "code",
   "execution_count": 44,
   "metadata": {},
   "outputs": [
    {
     "data": {
      "text/latex": [
       "$\\displaystyle 0.0373707322519869$"
      ],
      "text/plain": [
       "0.0373707322519869"
      ]
     },
     "execution_count": 44,
     "metadata": {},
     "output_type": "execute_result"
    }
   ],
   "source": [
    "h.get_irrtumswahrscheinlichkeit()"
   ]
  },
  {
   "cell_type": "code",
   "execution_count": 45,
   "metadata": {},
   "outputs": [
    {
     "data": {
      "text/latex": [
       "$\\displaystyle 0.280799998664119$"
      ],
      "text/plain": [
       "0.280799998664119"
      ]
     },
     "execution_count": 45,
     "metadata": {},
     "output_type": "execute_result"
    }
   ],
   "source": [
    "h.get_fehler2(.04)"
   ]
  },
  {
   "cell_type": "markdown",
   "metadata": {},
   "source": [
    "### beidseitiger Hypothesentest"
   ]
  },
  {
   "cell_type": "code",
   "execution_count": 46,
   "metadata": {},
   "outputs": [],
   "source": [
    "from sympyschool.stochjgst import Hypothesentest_beidseitig"
   ]
  },
  {
   "cell_type": "markdown",
   "metadata": {},
   "source": [
    "Glücksspielautomat, mit W. 15% soll \"Gewinn\" erscheinen. Testen mit Stichprobenumfang 100 und Signifikanzniveau 5%."
   ]
  },
  {
   "cell_type": "code",
   "execution_count": 47,
   "metadata": {},
   "outputs": [],
   "source": [
    "h = Hypothesentest_beidseitig(100, .15, .05)"
   ]
  },
  {
   "cell_type": "code",
   "execution_count": 48,
   "metadata": {},
   "outputs": [
    {
     "data": {
      "text/plain": [
       "(7, 23)"
      ]
     },
     "execution_count": 48,
     "metadata": {},
     "output_type": "execute_result"
    }
   ],
   "source": [
    "h.get_ablehnungsbereich_links(), h.get_ablehnungsbereich_rechts()"
   ]
  },
  {
   "cell_type": "code",
   "execution_count": 49,
   "metadata": {},
   "outputs": [
    {
     "data": {
      "text/latex": [
       "$\\displaystyle 0.0343072490221749$"
      ],
      "text/plain": [
       "0.0343072490221749"
      ]
     },
     "execution_count": 49,
     "metadata": {},
     "output_type": "execute_result"
    }
   ],
   "source": [
    "h.get_irrtumswahrscheinlichkeit()"
   ]
  },
  {
   "cell_type": "code",
   "execution_count": 50,
   "metadata": {},
   "outputs": [
    {
     "data": {
      "text/latex": [
       "$\\displaystyle 0.79383498187626$"
      ],
      "text/plain": [
       "0.793834981876260"
      ]
     },
     "execution_count": 50,
     "metadata": {},
     "output_type": "execute_result"
    }
   ],
   "source": [
    "h.get_fehler2(.1)"
   ]
  },
  {
   "cell_type": "code",
   "execution_count": null,
   "metadata": {},
   "outputs": [],
   "source": []
  }
 ],
 "metadata": {
  "kernelspec": {
   "display_name": ".venv",
   "language": "python",
   "name": "python3"
  },
  "language_info": {
   "codemirror_mode": {
    "name": "ipython",
    "version": 3
   },
   "file_extension": ".py",
   "mimetype": "text/x-python",
   "name": "python",
   "nbconvert_exporter": "python",
   "pygments_lexer": "ipython3",
   "version": "3.11.2"
  }
 },
 "nbformat": 4,
 "nbformat_minor": 2
}
