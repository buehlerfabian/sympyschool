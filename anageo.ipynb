{
 "cells": [
  {
   "cell_type": "code",
   "execution_count": 1,
   "id": "6d9fefb3-e709-467d-a8ff-7aae7a907b0a",
   "metadata": {},
   "outputs": [],
   "source": [
    "from sympy import *\n",
    "from fbpy.anageo import *"
   ]
  },
  {
   "cell_type": "code",
   "execution_count": 2,
   "id": "8cffd933",
   "metadata": {},
   "outputs": [
    {
     "data": {
      "text/latex": [
       "$\\displaystyle \\left[\\begin{matrix}9\\\\-8\\\\6\\end{matrix}\\right]+t\\displaystyle \\left[\\begin{matrix}2\\\\-3\\\\2\\end{matrix}\\right]$"
      ],
      "text/plain": [
       "<fbpy.anageo.Line at 0x7f998aa45820>"
      ]
     },
     "execution_count": 2,
     "metadata": {},
     "output_type": "execute_result"
    }
   ],
   "source": [
    "l1 = Line(vvv(9,-8,6),vvv(2,-3,2))\n",
    "l1"
   ]
  },
  {
   "cell_type": "code",
   "execution_count": 3,
   "id": "94246164",
   "metadata": {},
   "outputs": [
    {
     "data": {
      "text/latex": [
       "$\\displaystyle \\left[\\begin{matrix}0\\\\-1\\\\1\\end{matrix}\\right]+t\\displaystyle \\left[\\begin{matrix}1\\\\-1\\\\0\\end{matrix}\\right]$"
      ],
      "text/plain": [
       "<fbpy.anageo.Line at 0x7f9980090f10>"
      ]
     },
     "execution_count": 3,
     "metadata": {},
     "output_type": "execute_result"
    }
   ],
   "source": [
    "l2 = Line(vvv(0,-1,1), vvv(1,-1,0))\n",
    "l2"
   ]
  },
  {
   "cell_type": "code",
   "execution_count": 4,
   "id": "2721deb6",
   "metadata": {},
   "outputs": [
    {
     "data": {
      "text/latex": [
       "$\\displaystyle 3$"
      ],
      "text/plain": [
       "3"
      ]
     },
     "execution_count": 4,
     "metadata": {},
     "output_type": "execute_result"
    }
   ],
   "source": [
    "l1.distance_from_line(l2)"
   ]
  },
  {
   "cell_type": "code",
   "execution_count": 5,
   "id": "a679b84b",
   "metadata": {},
   "outputs": [
    {
     "data": {
      "text/plain": [
       "[Matrix([\n",
       " [ 5],\n",
       " [-2],\n",
       " [ 2]]),\n",
       " Matrix([\n",
       " [ 3],\n",
       " [-4],\n",
       " [ 1]])]"
      ]
     },
     "execution_count": 5,
     "metadata": {},
     "output_type": "execute_result"
    }
   ],
   "source": [
    "l1.perpendicular_basepoint(l2)"
   ]
  },
  {
   "cell_type": "code",
   "execution_count": 6,
   "id": "91d16fd1",
   "metadata": {},
   "outputs": [],
   "source": [
    "t = symbols('t')\n",
    "s = symbols('s')\n",
    "p1 = l1.get_point(t)\n",
    "p2 = l2.get_point(s)"
   ]
  },
  {
   "cell_type": "code",
   "execution_count": 7,
   "id": "d4643bf2",
   "metadata": {},
   "outputs": [
    {
     "name": "stdout",
     "output_type": "stream",
     "text": [
      "{s: 3, t: -2}\n"
     ]
    },
    {
     "data": {
      "text/plain": [
       "[Matrix([\n",
       " [ 5],\n",
       " [-2],\n",
       " [ 2]]),\n",
       " Matrix([\n",
       " [ 3],\n",
       " [-4],\n",
       " [ 1]])]"
      ]
     },
     "execution_count": 7,
     "metadata": {},
     "output_type": "execute_result"
    }
   ],
   "source": [
    "eq1 = (p2-p1).dot(l1.u)\n",
    "eq2 = (p2-p1).dot(l2.u)\n",
    "sol = solve([eq1,eq2],[s,t])\n",
    "print(sol)\n",
    "[p1.subs(sol),p2.subs(sol)]"
   ]
  },
  {
   "cell_type": "code",
   "execution_count": 8,
   "id": "3bc923dd",
   "metadata": {},
   "outputs": [
    {
     "data": {
      "text/latex": [
       "$\\displaystyle 5 s - 17 t - 49$"
      ],
      "text/plain": [
       "5*s - 17*t - 49"
      ]
     },
     "execution_count": 8,
     "metadata": {},
     "output_type": "execute_result"
    }
   ],
   "source": [
    "eq1"
   ]
  },
  {
   "cell_type": "code",
   "execution_count": 9,
   "id": "2dd320b3",
   "metadata": {},
   "outputs": [
    {
     "data": {
      "text/latex": [
       "$\\displaystyle 2 s - 5 t - 16$"
      ],
      "text/plain": [
       "2*s - 5*t - 16"
      ]
     },
     "execution_count": 9,
     "metadata": {},
     "output_type": "execute_result"
    }
   ],
   "source": [
    "eq2"
   ]
  },
  {
   "cell_type": "code",
   "execution_count": 10,
   "id": "3345ae6c",
   "metadata": {},
   "outputs": [
    {
     "data": {
      "text/latex": [
       "$\\displaystyle \\left[\\begin{matrix}2\\\\-3\\\\2\\end{matrix}\\right]$"
      ],
      "text/plain": [
       "Matrix([\n",
       "[ 2],\n",
       "[-3],\n",
       "[ 2]])"
      ]
     },
     "execution_count": 10,
     "metadata": {},
     "output_type": "execute_result"
    }
   ],
   "source": [
    "l1.u"
   ]
  },
  {
   "cell_type": "code",
   "execution_count": 11,
   "id": "7e5c8ff2",
   "metadata": {},
   "outputs": [
    {
     "data": {
      "text/latex": [
       "$\\displaystyle \\left( \\frac{6}{13}, \\  \\frac{16}{13}\\right)$"
      ],
      "text/plain": [
       "(6/13, 16/13)"
      ]
     },
     "execution_count": 11,
     "metadata": {},
     "output_type": "execute_result"
    }
   ],
   "source": [
    "mat = Matrix([[15,-17],[14,-15]])\n",
    "b = Matrix([[-14,-12]])\n",
    "sol = linsolve((mat,b))\n",
    "list(sol)[0]"
   ]
  },
  {
   "cell_type": "code",
   "execution_count": null,
   "id": "3121bbbe",
   "metadata": {},
   "outputs": [],
   "source": []
  }
 ],
 "metadata": {
  "kernelspec": {
   "display_name": "Python 3.10.4 ('jupyter')",
   "language": "python",
   "name": "python3"
  },
  "language_info": {
   "codemirror_mode": {
    "name": "ipython",
    "version": 3
   },
   "file_extension": ".py",
   "mimetype": "text/x-python",
   "name": "python",
   "nbconvert_exporter": "python",
   "pygments_lexer": "ipython3",
   "version": "3.9.2"
  },
  "vscode": {
   "interpreter": {
    "hash": "50490ede2538693f78595727350d5a79d5036967b2cf9b6f63eebbd4ff64119f"
   }
  }
 },
 "nbformat": 4,
 "nbformat_minor": 5
}
